{
 "cells": [
  {
   "cell_type": "code",
   "execution_count": null,
   "id": "7dcff2c0",
   "metadata": {},
   "outputs": [],
   "source": [
    "import cobra\n",
    "import numpy as np\n",
    "import matplotlib as plt\n",
    "import pandas as pd"
   ]
  },
  {
   "cell_type": "markdown",
   "id": "10e18e4a",
   "metadata": {},
   "source": [
    "\n",
    "# Assignment 1: Metabolic Modelling\n",
    "\n",
    "## Task 1\n",
    "\n",
    "- **A. In the interactive session, we saw reaction fluxes in a linear pathway being equal to each other due to mass balance constraints. Do you observe the same thing now for the maximal reaction activities? Explain your observations. [5 pt]**\n",
    "\n",
    "    In this case, the maximal reaction activities in a linear pathway are not equal to each other. If for example we look at the lower glycolysis pathway we get the following sequence of reaction activities:\n",
    "    - GAPD: 26.1\n",
    "    - PGK: 23.1\n",
    "    - PGM: 20.0\n",
    "    - ENO: 28.8\n",
    "\n",
    "- **B. Some reactions have no maximal reaction activity data. Identify at least two different kinds of such reactions, and explain why gene expression-derived data would not be applicable for these kinds of reactions. [5 pt]**\n",
    "\n",
    "    The first obvious reaction type are exchange reactions. If we specifically look at Ex_glc_D_e and EX_fru_e for example, they are empty and have no data. These specific reactions show the transport of that substance across the cell boundary. Gene expression data is not useful in this case for maximal activity as their rate is not only dependant on the number of expressed transport proteins. Also if there is no glucose or fructose in this case coming from an external environment the reaction rate is always zero.   \n",
    "\n",
    "    The second reaction type would be Biomass, in this case we very clearly have BIOMASS_Ecoli_cor_w_GAM that has no data at all. The process it describes the one of cell growth, using precursor metabolites to simulate that. Since there is no gene that encodes such a process it is therefore not possible to get a maximal activity value from it only based on gene expression data. "
   ]
  },
  {
   "cell_type": "markdown",
   "id": "26fae030",
   "metadata": {},
   "source": [
    "## Task 2"
   ]
  },
  {
   "cell_type": "code",
   "execution_count": 2,
   "id": "9d1c85f1",
   "metadata": {},
   "outputs": [
    {
     "data": {
      "text/html": [
       "\n",
       "        <table>\n",
       "            <tr>\n",
       "                <td><strong>Name</strong></td>\n",
       "                <td>e_coli_core</td>\n",
       "            </tr><tr>\n",
       "                <td><strong>Memory address</strong></td>\n",
       "                <td>768413169fd0</td>\n",
       "            </tr><tr>\n",
       "                <td><strong>Number of metabolites</strong></td>\n",
       "                <td>72</td>\n",
       "            </tr><tr>\n",
       "                <td><strong>Number of reactions</strong></td>\n",
       "                <td>95</td>\n",
       "            </tr><tr>\n",
       "                <td><strong>Number of genes</strong></td>\n",
       "                <td>137</td>\n",
       "            </tr><tr>\n",
       "                <td><strong>Number of groups</strong></td>\n",
       "                <td>0</td>\n",
       "            </tr><tr>\n",
       "                <td><strong>Objective expression</strong></td>\n",
       "                <td>1.0*BIOMASS_Ecoli_core_w_GAM - 1.0*BIOMASS_Ecoli_core_w_GAM_reverse_712e5</td>\n",
       "            </tr><tr>\n",
       "                <td><strong>Compartments</strong></td>\n",
       "                <td>extracellular space, cytosol</td>\n",
       "            </tr>\n",
       "          </table>"
      ],
      "text/plain": [
       "<Model e_coli_core at 0x768413169fd0>"
      ]
     },
     "execution_count": 2,
     "metadata": {},
     "output_type": "execute_result"
    }
   ],
   "source": [
    "model = cobra.io.load_json_model('e_coli_core.json')\n",
    "model"
   ]
  }
 ],
 "metadata": {
  "kernelspec": {
   "display_name": "msm-bio-systems",
   "language": "python",
   "name": "python3"
  },
  "language_info": {
   "codemirror_mode": {
    "name": "ipython",
    "version": 3
   },
   "file_extension": ".py",
   "mimetype": "text/x-python",
   "name": "python",
   "nbconvert_exporter": "python",
   "pygments_lexer": "ipython3",
   "version": "3.13.7"
  }
 },
 "nbformat": 4,
 "nbformat_minor": 5
}
