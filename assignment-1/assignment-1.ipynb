{
 "cells": [
  {
   "cell_type": "code",
   "execution_count": 1,
   "id": "7dcff2c0",
   "metadata": {},
   "outputs": [],
   "source": [
    "import cobra\n",
    "import numpy as np\n",
    "import matplotlib as plt\n",
    "import pandas as pd"
   ]
  },
  {
   "cell_type": "markdown",
   "id": "10e18e4a",
   "metadata": {},
   "source": [
    "\n",
    "# Assignment 1: Metabolic Modelling\n",
    "\n",
    "## Task 1\n",
    "\n",
    "- **A. In the interactive session, we saw reaction fluxes in a linear pathway being equal to each other due to mass balance constraints. Do you observe the same thing now for the maximal reaction activities? Explain your observations. [5 pt]**\n",
    "\n",
    "    In this case, the maximal reaction activities in a linear pathway are not equal to each other. If for example we look at the lower glycolysis pathway we get the following sequence of reaction activities:\n",
    "    - GAPD: 26.1\n",
    "    - PGK: 23.1\n",
    "    - PGM: 20.0\n",
    "    - ENO: 28.8\n",
    "\n",
    "- **B. Some reactions have no maximal reaction activity data. Identify at least two different kinds of such reactions, and explain why gene expression-derived data would not be applicable for these kinds of reactions. [5 pt]**\n",
    "\n",
    "    The first obvious reaction type are exchange reactions. If we specifically look at Ex_glc_D_e and EX_fru_e for example, they are empty and have no data. These specific reactions show the transport of that substance across the cell boundary. Gene expression data is not useful in this case for maximal activity as their rate is not only dependant on the number of expressed transport proteins. Also if there is no glucose or fructose in this case coming from an external environment the reaction rate is always zero.   \n",
    "\n",
    "    The second reaction type would be Biomass, in this case we very clearly have BIOMASS_Ecoli_cor_w_GAM that has no data at all. The process it describes the one of cell growth, using precursor metabolites to simulate that. Since there is no gene that encodes such a process it is therefore not possible to get a maximal activity value from it only based on gene expression data. "
   ]
  },
  {
   "cell_type": "markdown",
   "id": "26fae030",
   "metadata": {},
   "source": [
    "## Task 2"
   ]
  },
  {
   "cell_type": "code",
   "execution_count": 2,
   "id": "9d1c85f1",
   "metadata": {},
   "outputs": [
    {
     "data": {
      "text/html": [
       "\n",
       "        <table>\n",
       "            <tr>\n",
       "                <td><strong>Name</strong></td>\n",
       "                <td>e_coli_core</td>\n",
       "            </tr><tr>\n",
       "                <td><strong>Memory address</strong></td>\n",
       "                <td>757d06a93a10</td>\n",
       "            </tr><tr>\n",
       "                <td><strong>Number of metabolites</strong></td>\n",
       "                <td>72</td>\n",
       "            </tr><tr>\n",
       "                <td><strong>Number of reactions</strong></td>\n",
       "                <td>95</td>\n",
       "            </tr><tr>\n",
       "                <td><strong>Number of genes</strong></td>\n",
       "                <td>137</td>\n",
       "            </tr><tr>\n",
       "                <td><strong>Number of groups</strong></td>\n",
       "                <td>0</td>\n",
       "            </tr><tr>\n",
       "                <td><strong>Objective expression</strong></td>\n",
       "                <td>1.0*BIOMASS_Ecoli_core_w_GAM - 1.0*BIOMASS_Ecoli_core_w_GAM_reverse_712e5</td>\n",
       "            </tr><tr>\n",
       "                <td><strong>Compartments</strong></td>\n",
       "                <td>extracellular space, cytosol</td>\n",
       "            </tr>\n",
       "          </table>"
      ],
      "text/plain": [
       "<Model e_coli_core at 0x757d06a93a10>"
      ]
     },
     "execution_count": 2,
     "metadata": {},
     "output_type": "execute_result"
    }
   ],
   "source": [
    "model = cobra.io.load_json_model('e_coli_core.json')\n",
    "model"
   ]
  },
  {
   "cell_type": "code",
   "execution_count": 3,
   "id": "50cee9c3",
   "metadata": {},
   "outputs": [
    {
     "data": {
      "text/plain": [
       "[<Reaction PFK at 0x757d067392b0>,\n",
       " <Reaction PFL at 0x757d064e0910>,\n",
       " <Reaction PGI at 0x757d064e0a50>,\n",
       " <Reaction PGK at 0x757d06f86780>,\n",
       " <Reaction PGL at 0x757d067110f0>,\n",
       " <Reaction ACALD at 0x757d06919b50>,\n",
       " <Reaction AKGt2r at 0x757d06ac48d0>,\n",
       " <Reaction PGM at 0x757d06ac4af0>,\n",
       " <Reaction PIt2r at 0x757d06ab3350>,\n",
       " <Reaction ALCD2x at 0x757d06ab3d50>,\n",
       " <Reaction ACALDt at 0x757d06a8ff20>,\n",
       " <Reaction ACKr at 0x757d070f6990>,\n",
       " <Reaction PPC at 0x757d063d7cb0>,\n",
       " <Reaction ACONTa at 0x757d063d7bd0>,\n",
       " <Reaction ACONTb at 0x757d640fadd0>,\n",
       " <Reaction ATPM at 0x757d064ddc10>,\n",
       " <Reaction PPCK at 0x757d064dde50>,\n",
       " <Reaction ACt2r at 0x757d0669dff0>,\n",
       " <Reaction PPS at 0x757d0669ea40>,\n",
       " <Reaction ADK1 at 0x757d0669eaf0>,\n",
       " <Reaction AKGDH at 0x757d0669eba0>,\n",
       " <Reaction ATPS4r at 0x757d0669ec50>,\n",
       " <Reaction PTAr at 0x757d0669ed00>,\n",
       " <Reaction PYK at 0x757d0669edb0>,\n",
       " <Reaction BIOMASS_Ecoli_core_w_GAM at 0x757d0669ee60>,\n",
       " <Reaction PYRt2 at 0x757d0669ef10>,\n",
       " <Reaction CO2t at 0x757d0669efc0>,\n",
       " <Reaction RPE at 0x757d0669f070>,\n",
       " <Reaction CS at 0x757d0669f120>,\n",
       " <Reaction RPI at 0x757d0669f1d0>,\n",
       " <Reaction SUCCt2_2 at 0x757d0669f280>,\n",
       " <Reaction CYTBD at 0x757d0669f330>,\n",
       " <Reaction D_LACt2 at 0x757d0669f3e0>,\n",
       " <Reaction ENO at 0x757d0669f490>,\n",
       " <Reaction SUCCt3 at 0x757d0669f540>,\n",
       " <Reaction ETOHt2r at 0x757d0669f5f0>,\n",
       " <Reaction SUCDi at 0x757d0669f6a0>,\n",
       " <Reaction SUCOAS at 0x757d0669f750>,\n",
       " <Reaction TALA at 0x757d0669f800>,\n",
       " <Reaction THD2 at 0x757d0669f8b0>,\n",
       " <Reaction TKT1 at 0x757d0669f960>,\n",
       " <Reaction TKT2 at 0x757d0669fa10>,\n",
       " <Reaction TPI at 0x757d0669fac0>,\n",
       " <Reaction EX_ac_e at 0x757d0669fb70>,\n",
       " <Reaction EX_acald_e at 0x757d0669fc20>,\n",
       " <Reaction EX_akg_e at 0x757d0669fcd0>,\n",
       " <Reaction EX_co2_e at 0x757d0669fd80>,\n",
       " <Reaction EX_etoh_e at 0x757d0669fe30>,\n",
       " <Reaction EX_for_e at 0x757d0669fee0>,\n",
       " <Reaction EX_fru_e at 0x757d06284050>,\n",
       " <Reaction EX_fum_e at 0x757d06284100>,\n",
       " <Reaction EX_glc__D_e at 0x757d062841b0>,\n",
       " <Reaction EX_gln__L_e at 0x757d06284260>,\n",
       " <Reaction EX_glu__L_e at 0x757d06284310>,\n",
       " <Reaction EX_h_e at 0x757d062843c0>,\n",
       " <Reaction EX_h2o_e at 0x757d06284470>,\n",
       " <Reaction EX_lac__D_e at 0x757d06284520>,\n",
       " <Reaction EX_mal__L_e at 0x757d062845d0>,\n",
       " <Reaction EX_nh4_e at 0x757d06284680>,\n",
       " <Reaction EX_o2_e at 0x757d06284730>,\n",
       " <Reaction EX_pi_e at 0x757d062847e0>,\n",
       " <Reaction EX_pyr_e at 0x757d06284890>,\n",
       " <Reaction EX_succ_e at 0x757d06284940>,\n",
       " <Reaction FBA at 0x757d062849f0>,\n",
       " <Reaction FBP at 0x757d06284aa0>,\n",
       " <Reaction FORt2 at 0x757d06284b50>,\n",
       " <Reaction FORt at 0x757d06284c00>,\n",
       " <Reaction FRD7 at 0x757d06284cb0>,\n",
       " <Reaction FRUpts2 at 0x757d06284d60>,\n",
       " <Reaction FUM at 0x757d06284e10>,\n",
       " <Reaction FUMt2_2 at 0x757d06284ec0>,\n",
       " <Reaction G6PDH2r at 0x757d06284f70>,\n",
       " <Reaction GAPD at 0x757d06285020>,\n",
       " <Reaction GLCpts at 0x757d062850d0>,\n",
       " <Reaction GLNS at 0x757d06285180>,\n",
       " <Reaction GLNabc at 0x757d06285230>,\n",
       " <Reaction GLUDy at 0x757d062852e0>,\n",
       " <Reaction GLUN at 0x757d06285390>,\n",
       " <Reaction GLUSy at 0x757d06285440>,\n",
       " <Reaction GLUt2r at 0x757d062854f0>,\n",
       " <Reaction GND at 0x757d062855a0>,\n",
       " <Reaction H2Ot at 0x757d06285650>,\n",
       " <Reaction ICDHyr at 0x757d06285700>,\n",
       " <Reaction ICL at 0x757d062857b0>,\n",
       " <Reaction LDH_D at 0x757d06285860>,\n",
       " <Reaction MALS at 0x757d06285910>,\n",
       " <Reaction MALt2_2 at 0x757d062859c0>,\n",
       " <Reaction MDH at 0x757d06285a70>,\n",
       " <Reaction ME1 at 0x757d06285b20>,\n",
       " <Reaction ME2 at 0x757d06285bd0>,\n",
       " <Reaction NADH16 at 0x757d06285c80>,\n",
       " <Reaction NADTRHD at 0x757d06285d30>,\n",
       " <Reaction NH4t at 0x757d06285de0>,\n",
       " <Reaction O2t at 0x757d06285e90>,\n",
       " <Reaction PDH at 0x757d06285f40>]"
      ]
     },
     "execution_count": 3,
     "metadata": {},
     "output_type": "execute_result"
    }
   ],
   "source": [
    "model.reactions"
   ]
  }
 ],
 "metadata": {
  "kernelspec": {
   "display_name": "msm-bio-systems",
   "language": "python",
   "name": "python3"
  },
  "language_info": {
   "codemirror_mode": {
    "name": "ipython",
    "version": 3
   },
   "file_extension": ".py",
   "mimetype": "text/x-python",
   "name": "python",
   "nbconvert_exporter": "python",
   "pygments_lexer": "ipython3",
   "version": "3.13.7"
  }
 },
 "nbformat": 4,
 "nbformat_minor": 5
}
