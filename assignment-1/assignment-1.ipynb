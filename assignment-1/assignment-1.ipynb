{
 "cells": [
  {
   "cell_type": "code",
   "execution_count": null,
   "id": "7dcff2c0",
   "metadata": {},
   "outputs": [],
   "source": [
    "import cobra\n",
    "from cobra.flux_analysis import flux_variability_analysis\n",
    "import matplotlib as plt\n",
    "import pandas as pd\n",
    "import csv"
   ]
  },
  {
   "cell_type": "markdown",
   "id": "10e18e4a",
   "metadata": {},
   "source": [
    "\n",
    "# Assignment 1: Metabolic Modelling\n",
    "\n",
    "## Task 1\n",
    "\n",
    "- **A. In the interactive session, we saw reaction fluxes in a linear pathway being equal to each other due to mass balance constraints. Do you observe the same thing now for the maximal reaction activities? Explain your observations. [5 pt]**\n",
    "\n",
    "    In this case, the maximal reaction activities in a linear pathway are not equal to each other. If for example we look at the lower glycolysis pathway we get the following sequence of reaction activities:\n",
    "    - GAPD: 26.1\n",
    "    - PGK: 23.1\n",
    "    - PGM: 20.0\n",
    "    - ENO: 28.8\n",
    "\n",
    "- **B. Some reactions have no maximal reaction activity data. Identify at least two different kinds of such reactions, and explain why gene expression-derived data would not be applicable for these kinds of reactions. [5 pt]**\n",
    "\n",
    "    The first obvious reaction type are exchange reactions. If we specifically look at Ex_glc_D_e and EX_fru_e for example, they are empty and have no data. These specific reactions show the transport of that substance across the cell boundary. Gene expression data is not useful in this case for maximal activity as their rate is not only dependant on the number of expressed transport proteins. Also if there is no glucose or fructose in this case coming from an external environment the reaction rate is always zero.   \n",
    "\n",
    "    The second reaction type would be Biomass, in this case we very clearly have BIOMASS_Ecoli_cor_w_GAM that has no data at all. The process it describes the one of cell growth, using precursor metabolites to simulate that. Since there is no gene that encodes such a process it is therefore not possible to get a maximal activity value from it only based on gene expression data. "
   ]
  },
  {
   "cell_type": "markdown",
   "id": "26fae030",
   "metadata": {},
   "source": [
    "## Task 2"
   ]
  },
  {
   "cell_type": "code",
   "execution_count": null,
   "id": "7b6dd71a",
   "metadata": {},
   "outputs": [],
   "source": [
    "import cobra\n",
    "import csv\n",
    "import pandas as pd\n",
    "from cobra.flux_analysis import flux_variability_analysis\n",
    "\n",
    "model = cobra.io.load_json_model('e_coli_core.json')\n",
    "\n",
    "filename = 'e_coli_core_expression.csv'\n",
    "estimated_maximal_activity = {}\n",
    "\n",
    "with open(filename, mode='r', newline='') as file:\n",
    "    reader = csv.reader(file)   \n",
    "    for row in reader:\n",
    "        \n",
    "        try:\n",
    "            num = float(row[1])\n",
    "            estimated_maximal_activity[row[0]] = num\n",
    "        except ValueError:\n",
    "            continue\n",
    "\n",
    "high_absolute_default_bound = 1000\n",
    "\n",
    "for reaction in model.reactions:\n",
    "    \n",
    "    if (reaction.id==\"ATPM\"):\n",
    "        print(\"ATPM reaction unchanged\")\n",
    "        continue\n",
    "    \n",
    "    if (reaction.id==\"EX_glc__D_e\"):\n",
    "        print(\"EX_glc__D_e bounds changed to high absolute default bound\")\n",
    "        reaction.lower_bound = -high_absolute_default_bound\n",
    "        reaction.upper_bound = high_absolute_default_bound\n",
    "        continue\n",
    "    \n",
    "    try:\n",
    "        value = estimated_maximal_activity[reaction.id]\n",
    "    except KeyError:\n",
    "        continue\n",
    "    \n",
    "    if (reaction.reversibility == True):\n",
    "        reaction.lower_bound = -value\n",
    "        reaction.upper_bound = value\n",
    "        \n",
    "    elif (reaction.reversibility == False):\n",
    "        reaction.lower_bound = 0.0\n",
    "        reaction.upper_bound = value"
   ]
  },
  {
   "cell_type": "code",
   "execution_count": null,
   "id": "526eb97d",
   "metadata": {},
   "outputs": [],
   "source": [
    "for reaction in model.reactions:\n",
    "    print(f'{reaction.id}: UB:{reaction.upper_bound}, LB:{reaction.lower_bound}')"
   ]
  },
  {
   "cell_type": "markdown",
   "id": "41ca2d13",
   "metadata": {},
   "source": [
    "## Task 3"
   ]
  },
  {
   "cell_type": "code",
   "execution_count": null,
   "id": "d1a61533",
   "metadata": {},
   "outputs": [],
   "source": []
  },
  {
   "cell_type": "markdown",
   "id": "6047ee6d",
   "metadata": {},
   "source": [
    "## Task 4"
   ]
  },
  {
   "cell_type": "code",
   "execution_count": null,
   "id": "f6b0faf8",
   "metadata": {},
   "outputs": [],
   "source": [
    "# 4.a\n",
    "# Perform FBA optimization\n",
    "fba_results = model.optimize()\n",
    "\n",
    "# Report the maximal biomass production rate\n",
    "print(f\"Maximal biomass production rate: {fba_results.objective_value:.4f}\")"
   ]
  },
  {
   "cell_type": "code",
   "execution_count": null,
   "id": "821c97f6",
   "metadata": {},
   "outputs": [],
   "source": [
    "# 4.b: determine reaction whose flux reaches its maximum\n",
    "reactions_at_max_flux = []\n",
    "for reaction in model.reactions:\n",
    "    flux = fba_results.fluxes[reaction.id]\n",
    "    if flux == reaction.upper_bound:\n",
    "        reactions_at_max_flux.append(reaction)\n",
    "\n",
    "print(f\"Number of reactions whose flux reaches its maximum: {len(reactions_at_max_flux)}\")\n",
    "print(\"Reactions whose flux reaches its maximum:\")\n",
    "for reaction in reactions_at_max_flux:\n",
    "    print(f\"- {reaction.id}\")   "
   ]
  },
  {
   "cell_type": "code",
   "execution_count": null,
   "id": "c9c065c5",
   "metadata": {},
   "outputs": [],
   "source": [
    "#  4.c\n",
    "print(\"Reactions with given maximal reaction activity and zero flux:\")\n",
    "list_4c = []\n",
    "for reaction_id in estimated_maximal_activity.keys():\n",
    "    reaction = model.reactions.get_by_id(reaction_id)\n",
    "    if fba_results.fluxes[reaction.id] == 0:\n",
    "        list_4c.append(reaction.id)\n",
    "print(list_4c)\n"
   ]
  },
  {
   "cell_type": "markdown",
   "id": "a28e3134",
   "metadata": {},
   "source": [
    "### 4.c\n",
    "\n",
    "The reaction we are going to analyze is 'PFL'. When we look at the reaction in the online demo we see that it is a reaction which only connects two point and runs in parallel with another reaction, 'PDH'. This also immediately explains why 'PFL' has no flux. All flux that is needed between the two nodes is provided by the other reaction. This make 'PFL' redundant. \n",
    "\n",
    "![image.png](Q4c.png)"
   ]
  }
 ],
 "metadata": {
  "kernelspec": {
   "display_name": ".venv",
   "language": "python",
   "name": "python3"
  },
  "language_info": {
   "codemirror_mode": {
    "name": "ipython",
    "version": 3
   },
   "file_extension": ".py",
   "mimetype": "text/x-python",
   "name": "python",
   "nbconvert_exporter": "python",
   "pygments_lexer": "ipython3",
   "version": "3.13.7"
  }
 },
 "nbformat": 4,
 "nbformat_minor": 5
}
