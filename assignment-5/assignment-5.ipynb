{
 "cells": [
  {
   "cell_type": "markdown",
   "id": "c525096b",
   "metadata": {},
   "source": [
    "# Assignment 5: modeling in Neuroscience"
   ]
  },
  {
   "cell_type": "code",
   "execution_count": 30,
   "id": "2998d8e6",
   "metadata": {},
   "outputs": [
    {
     "name": "stdout",
     "output_type": "stream",
     "text": [
      "Human regions:\n",
      "- Area hOc1 (V1, 17, CalcS) right\n",
      "- Area hIP7 (IPS) right\n",
      "- Area hIP5 (IPS) right\n",
      "- Area hIP2 (IPS) right\n",
      "- Area hOc2 (V2, 18) right\n",
      "- Area hIP1 (IPS) right\n",
      "- Area hIP6 (IPS) right\n",
      "- Area hIP8 (IPS) right\n",
      "- Area hIP4 (IPS) right\n",
      "- Area hIP3 (IPS) right\n",
      "- Area hOc4v (LingG) right\n",
      "\n",
      "Macaque regions:\n",
      "- LIPd right\n",
      "- LIPv right\n",
      "- V4dl right\n",
      "- V4dm right\n",
      "\n",
      "Marmoset regions:\n"
     ]
    }
   ],
   "source": [
    "import siibra\n",
    "\n",
    "# --- Human (Julich 2.9) ---\n",
    "human_atlas = siibra.atlases.get('human')\n",
    "human_parc = human_atlas.parcellations.get('julich 2.9')\n",
    "human_regions = human_parc.find('/(hOc1|hOc2|hOc4v|V3A|V5|IPS).*right/')\n",
    "print(\"Human regions:\")\n",
    "for r in human_regions:\n",
    "    print(\"-\", r.name)\n",
    "\n",
    "# --- Macaque (MEBRAINS) ---\n",
    "macaque_atlas = siibra.atlases.get('monkey')\n",
    "macaque_parc = macaque_atlas.parcellations.get('MEBRAINS_POPULATION_BASED_MONKEY_PARCELLATION')\n",
    "macaque_regions = macaque_parc.find('/(V1|V2|V4|MT|MST|LIP).*right/')\n",
    "print(\"\\nMacaque regions:\")\n",
    "for r in macaque_regions:\n",
    "    print(\"-\", r.name)\n",
    "\n",
    "# --- Marmoset (Nencki–Monash 2020) ---\n",
    "marmoset_atlas = siibra.atlases.get('marmoset')\n",
    "marmoset_parc = marmoset_atlas.parcellations.get('MARMOSET_NENCKI_MONASH_ATLAS_2020')\n",
    "marmoset_regions = marmoset_parc.find('/(V1|V2|VLA|MT|MST|LIP).*right/')\n",
    "print(\"\\nMarmoset regions:\")\n",
    "for r in marmoset_regions:\n",
    "    print(\"-\", r.name)\n"
   ]
  },
  {
   "cell_type": "code",
   "execution_count": null,
   "id": "5e313d55",
   "metadata": {},
   "outputs": [
    {
     "name": "stdout",
     "output_type": "stream",
     "text": [
      "This atlas consists of probabilistic localizations of 116 cytoarchitectural areas of the marmoset cerebral cortex, along with the related parcellation of the most likely area at a given location. This probabilistic parcellation was based on Nissl-based cytoarchitecture in twenty individuals who contributed to the template. The taxonomy, nomenclature, and cytoarchitectural criteria were derived from the Paxinos et al. (2012) atlas.\n"
     ]
    }
   ],
   "source": [
    "print(marmoset_parc.names)\n"
   ]
  }
 ],
 "metadata": {
  "kernelspec": {
   "display_name": ".venv",
   "language": "python",
   "name": "python3"
  },
  "language_info": {
   "codemirror_mode": {
    "name": "ipython",
    "version": 3
   },
   "file_extension": ".py",
   "mimetype": "text/x-python",
   "name": "python",
   "nbconvert_exporter": "python",
   "pygments_lexer": "ipython3",
   "version": "3.13.7"
  }
 },
 "nbformat": 4,
 "nbformat_minor": 5
}
