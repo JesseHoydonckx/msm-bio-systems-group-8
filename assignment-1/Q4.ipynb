{
 "cells": [
  {
   "cell_type": "code",
   "execution_count": 92,
   "id": "f5348a13",
   "metadata": {},
   "outputs": [
    {
     "name": "stdout",
     "output_type": "stream",
     "text": [
      "ATPM reaction unchanged\n",
      "EX_glc__D_e bounds changed to high absolute default bound\n"
     ]
    }
   ],
   "source": [
    "import cobra\n",
    "import csv\n",
    "import pandas as pd\n",
    "from cobra.flux_analysis import flux_variability_analysis\n",
    "\n",
    "model = cobra.io.load_json_model('e_coli_core.json')\n",
    "\n",
    "filename = 'e_coli_core_expression.csv'\n",
    "estimated_maximal_activity = {}\n",
    "\n",
    "with open(filename, mode='r', newline='') as file:\n",
    "    reader = csv.reader(file)   \n",
    "    for row in reader:\n",
    "        \n",
    "        try:\n",
    "            num = float(row[1])\n",
    "            estimated_maximal_activity[row[0]] = num\n",
    "        except ValueError:\n",
    "            continue\n",
    "\n",
    "high_absolute_default_bound = 1000\n",
    "\n",
    "for reaction in model.reactions:\n",
    "    \n",
    "    if (reaction.id==\"ATPM\"):\n",
    "        print(\"ATPM reaction unchanged\")\n",
    "        continue\n",
    "    \n",
    "    if (reaction.id==\"EX_glc__D_e\"):\n",
    "        print(\"EX_glc__D_e bounds changed to high absolute default bound\")\n",
    "        reaction.lower_bound = -high_absolute_default_bound\n",
    "        reaction.upper_bound = high_absolute_default_bound\n",
    "        continue\n",
    "    \n",
    "    try:\n",
    "        value = estimated_maximal_activity[reaction.id]\n",
    "    except KeyError:\n",
    "        continue\n",
    "    \n",
    "    if (reaction.reversibility == True):\n",
    "        reaction.lower_bound = -value\n",
    "        reaction.upper_bound = value\n",
    "        \n",
    "    elif (reaction.reversibility == False):\n",
    "        reaction.lower_bound = 0.0\n",
    "        reaction.upper_bound = value"
   ]
  },
  {
   "cell_type": "code",
   "execution_count": 93,
   "id": "5825fb98",
   "metadata": {},
   "outputs": [
    {
     "name": "stdout",
     "output_type": "stream",
     "text": [
      "PFK: UB:12.12, LB:0.0\n",
      "PFL: UB:1.0, LB:0.0\n",
      "PGI: UB:13.12, LB:-13.12\n",
      "PGK: UB:23.13, LB:-23.13\n",
      "PGL: UB:8.12, LB:0.0\n",
      "ACALD: UB:1.16, LB:-1.16\n",
      "AKGt2r: UB:3.1, LB:-3.1\n",
      "PGM: UB:20.01, LB:-20.01\n",
      "PIt2r: UB:6.03, LB:-6.03\n",
      "ALCD2x: UB:9.01, LB:-9.01\n",
      "ACALDt: UB:2.29, LB:-2.29\n",
      "ACKr: UB:1.19, LB:-1.19\n",
      "PPC: UB:2.56, LB:0.0\n",
      "ACONTa: UB:25.35, LB:-25.35\n",
      "ACONTb: UB:25.35, LB:-25.35\n",
      "ATPM: UB:1000.0, LB:8.39\n",
      "PPCK: UB:25.23, LB:0.0\n",
      "ACt2r: UB:3.23, LB:-3.23\n",
      "PPS: UB:2.5, LB:0.0\n",
      "ADK1: UB:30.57, LB:-30.57\n",
      "AKGDH: UB:24.35, LB:0.0\n",
      "ATPS4r: UB:60.5, LB:-60.5\n",
      "PTAr: UB:4.47, LB:-4.47\n",
      "PYK: UB:26.78, LB:0.0\n",
      "BIOMASS_Ecoli_core_w_GAM: UB:1000.0, LB:0.0\n",
      "PYRt2: UB:1.26, LB:-1.26\n",
      "CO2t: UB:30.45, LB:-30.45\n",
      "RPE: UB:5.67, LB:-5.67\n",
      "CS: UB:20.56, LB:0.0\n",
      "RPI: UB:5.56, LB:-5.56\n",
      "SUCCt2_2: UB:2.36, LB:0.0\n",
      "CYTBD: UB:40.56, LB:0.0\n",
      "D_LACt2: UB:4.56, LB:-4.56\n",
      "ENO: UB:28.78, LB:-28.78\n",
      "SUCCt3: UB:6.67, LB:0.0\n",
      "ETOHt2r: UB:2.34, LB:-2.34\n",
      "SUCDi: UB:24.34, LB:0.0\n",
      "SUCOAS: UB:20.6, LB:-20.6\n",
      "TALA: UB:4.45, LB:-4.45\n",
      "THD2: UB:4.5, LB:0.0\n",
      "TKT1: UB:3.34, LB:-3.34\n",
      "TKT2: UB:3.34, LB:-3.34\n",
      "TPI: UB:45.56, LB:-45.56\n",
      "EX_ac_e: UB:1000.0, LB:0.0\n",
      "EX_acald_e: UB:1000.0, LB:0.0\n",
      "EX_akg_e: UB:1000.0, LB:0.0\n",
      "EX_co2_e: UB:1000.0, LB:-1000.0\n",
      "EX_etoh_e: UB:1000.0, LB:0.0\n",
      "EX_for_e: UB:1000.0, LB:0.0\n",
      "EX_fru_e: UB:1000.0, LB:0.0\n",
      "EX_fum_e: UB:1000.0, LB:0.0\n",
      "EX_glc__D_e: UB:1000, LB:-1000\n",
      "EX_gln__L_e: UB:1000.0, LB:0.0\n",
      "EX_glu__L_e: UB:1000.0, LB:0.0\n",
      "EX_h_e: UB:1000.0, LB:-1000.0\n",
      "EX_h2o_e: UB:1000.0, LB:-1000.0\n",
      "EX_lac__D_e: UB:1000.0, LB:0.0\n",
      "EX_mal__L_e: UB:1000.0, LB:0.0\n",
      "EX_nh4_e: UB:1000.0, LB:-1000.0\n",
      "EX_o2_e: UB:1000.0, LB:-1000.0\n",
      "EX_pi_e: UB:1000.0, LB:-1000.0\n",
      "EX_pyr_e: UB:1000.0, LB:0.0\n",
      "EX_succ_e: UB:1000.0, LB:0.0\n",
      "FBA: UB:24.45, LB:-24.45\n",
      "FBP: UB:2.35, LB:0.0\n",
      "FORt2: UB:1.28, LB:0.0\n",
      "FORt: UB:2.34, LB:0.0\n",
      "FRD7: UB:20.07, LB:0.0\n",
      "FRUpts2: UB:10.08, LB:0.0\n",
      "FUM: UB:24.35, LB:-24.35\n",
      "FUMt2_2: UB:2.45, LB:0.0\n",
      "G6PDH2r: UB:5.68, LB:-5.68\n",
      "GAPD: UB:26.13, LB:-26.13\n",
      "GLCpts: UB:16.34, LB:0.0\n",
      "GLNS: UB:3.45, LB:0.0\n",
      "GLNabc: UB:0.25, LB:0.0\n",
      "GLUDy: UB:7.35, LB:-7.35\n",
      "GLUN: UB:6.25, LB:0.0\n",
      "GLUSy: UB:7.35, LB:0.0\n",
      "GLUt2r: UB:4.12, LB:-4.12\n",
      "GND: UB:6.72, LB:0.0\n",
      "H2Ot: UB:20.06, LB:-20.06\n",
      "ICDHyr: UB:15.06, LB:-15.06\n",
      "ICL: UB:14.07, LB:0.0\n",
      "LDH_D: UB:2.07, LB:-2.07\n",
      "MALS: UB:9.12, LB:0.0\n",
      "MALt2_2: UB:8.87, LB:0.0\n",
      "MDH: UB:4.26, LB:-4.26\n",
      "ME1: UB:3.24, LB:0.0\n",
      "ME2: UB:3.34, LB:0.0\n",
      "NADH16: UB:20.26, LB:0.0\n",
      "NADTRHD: UB:1.26, LB:0.0\n",
      "NH4t: UB:3.45, LB:-3.45\n",
      "O2t: UB:40.67, LB:-40.67\n",
      "PDH: UB:32.32, LB:0.0\n"
     ]
    }
   ],
   "source": [
    "for reaction in model.reactions:\n",
    "    print(f'{reaction.id}: UB:{reaction.upper_bound}, LB:{reaction.lower_bound}')"
   ]
  },
  {
   "cell_type": "markdown",
   "id": "690e37a5",
   "metadata": {},
   "source": [
    "### Q3.c\n",
    "\n",
    "We have 45 reactions which have a positive minimum flux. This is because some reaction are always needed for growth and survival. Thus these reaction will always have some flux. There are also exchange reaction, such as 'EX_co2_e' or 'EX_h2o_e'. These exchange reaction either provide a necessary chemical or remove unnecessary product."
   ]
  },
  {
   "cell_type": "code",
   "execution_count": 94,
   "id": "e6691a4b",
   "metadata": {},
   "outputs": [
    {
     "data": {
      "text/html": [
       "<div>\n",
       "<style scoped>\n",
       "    .dataframe tbody tr th:only-of-type {\n",
       "        vertical-align: middle;\n",
       "    }\n",
       "\n",
       "    .dataframe tbody tr th {\n",
       "        vertical-align: top;\n",
       "    }\n",
       "\n",
       "    .dataframe thead th {\n",
       "        text-align: right;\n",
       "    }\n",
       "</style>\n",
       "<table border=\"1\" class=\"dataframe\">\n",
       "  <thead>\n",
       "    <tr style=\"text-align: right;\">\n",
       "      <th></th>\n",
       "      <th>minimum</th>\n",
       "      <th>maximum</th>\n",
       "    </tr>\n",
       "  </thead>\n",
       "  <tbody>\n",
       "    <tr>\n",
       "      <th>PFK</th>\n",
       "      <td>7.314456e+00</td>\n",
       "      <td>7.314456e+00</td>\n",
       "    </tr>\n",
       "    <tr>\n",
       "      <th>PFL</th>\n",
       "      <td>3.897323e-14</td>\n",
       "      <td>0.000000e+00</td>\n",
       "    </tr>\n",
       "    <tr>\n",
       "      <th>PGI</th>\n",
       "      <td>7.376438e+00</td>\n",
       "      <td>7.376438e+00</td>\n",
       "    </tr>\n",
       "    <tr>\n",
       "      <th>PGK</th>\n",
       "      <td>-1.446649e+01</td>\n",
       "      <td>-1.446649e+01</td>\n",
       "    </tr>\n",
       "    <tr>\n",
       "      <th>PGL</th>\n",
       "      <td>4.751035e-01</td>\n",
       "      <td>4.751035e-01</td>\n",
       "    </tr>\n",
       "    <tr>\n",
       "      <th>...</th>\n",
       "      <td>...</td>\n",
       "      <td>...</td>\n",
       "    </tr>\n",
       "    <tr>\n",
       "      <th>NADH16</th>\n",
       "      <td>2.026000e+01</td>\n",
       "      <td>2.026000e+01</td>\n",
       "    </tr>\n",
       "    <tr>\n",
       "      <th>NADTRHD</th>\n",
       "      <td>0.000000e+00</td>\n",
       "      <td>-4.232876e-16</td>\n",
       "    </tr>\n",
       "    <tr>\n",
       "      <th>NH4t</th>\n",
       "      <td>2.615007e+00</td>\n",
       "      <td>2.615007e+00</td>\n",
       "    </tr>\n",
       "    <tr>\n",
       "      <th>O2t</th>\n",
       "      <td>1.151629e+01</td>\n",
       "      <td>1.151629e+01</td>\n",
       "    </tr>\n",
       "    <tr>\n",
       "      <th>PDH</th>\n",
       "      <td>7.437320e+00</td>\n",
       "      <td>7.437320e+00</td>\n",
       "    </tr>\n",
       "  </tbody>\n",
       "</table>\n",
       "<p>95 rows × 2 columns</p>\n",
       "</div>"
      ],
      "text/plain": [
       "              minimum       maximum\n",
       "PFK      7.314456e+00  7.314456e+00\n",
       "PFL      3.897323e-14  0.000000e+00\n",
       "PGI      7.376438e+00  7.376438e+00\n",
       "PGK     -1.446649e+01 -1.446649e+01\n",
       "PGL      4.751035e-01  4.751035e-01\n",
       "...               ...           ...\n",
       "NADH16   2.026000e+01  2.026000e+01\n",
       "NADTRHD  0.000000e+00 -4.232876e-16\n",
       "NH4t     2.615007e+00  2.615007e+00\n",
       "O2t      1.151629e+01  1.151629e+01\n",
       "PDH      7.437320e+00  7.437320e+00\n",
       "\n",
       "[95 rows x 2 columns]"
      ]
     },
     "execution_count": 94,
     "metadata": {},
     "output_type": "execute_result"
    }
   ],
   "source": [
    "# Perform FVA : finds the minimum and maximum flux for each reaction\n",
    "fva_result: pd.DataFrame = flux_variability_analysis(model, model.reactions)\n",
    "fva_result"
   ]
  },
  {
   "cell_type": "code",
   "execution_count": 95,
   "id": "c35c9fcb",
   "metadata": {},
   "outputs": [],
   "source": [
    "# Q3.b TODO\n",
    "gene_imposed_reactions = [] # reactions with bounds imposed by gene expression data\n",
    "\n",
    "for i, reaction_id in enumerate(fva_result.index):\n",
    "    reaction = model.reactions.get_by_id(reaction_id)\n",
    "    upper_bound = reaction.upper_bound # upper bound defined by the model\n",
    "    max_flux = fva_result[\"maximum\"].loc[reaction_id] # maximum flux found by FVA\n",
    "\n",
    "    if upper_bound > max_flux:\n",
    "        gene_imposed_reactions.append(reaction)\n"
   ]
  },
  {
   "cell_type": "code",
   "execution_count": 96,
   "id": "35049bae",
   "metadata": {},
   "outputs": [
    {
     "data": {
      "text/plain": [
       "Index(['PFK', 'PFL', 'PGI', 'PGL', 'AKGt2r', 'PIt2r', 'ACALDt', 'PPC',\n",
       "       'ACONTa', 'ACONTb', 'ATPM', 'AKGDH', 'ATPS4r', 'PTAr', 'PYK',\n",
       "       'BIOMASS_Ecoli_core_w_GAM', 'CS', 'CYTBD', 'ENO', 'SUCDi', 'TALA',\n",
       "       'THD2', 'TKT1', 'TPI', 'EX_ac_e', 'EX_co2_e', 'EX_etoh_e', 'EX_h_e',\n",
       "       'EX_h2o_e', 'EX_lac__D_e', 'EX_pyr_e', 'FBA', 'FUM', 'G6PDH2r', 'GAPD',\n",
       "       'GLCpts', 'GLNS', 'GLNabc', 'GLUt2r', 'GND', 'ICDHyr', 'MDH', 'NADH16',\n",
       "       'NH4t', 'O2t', 'PDH'],\n",
       "      dtype='object')"
      ]
     },
     "execution_count": 96,
     "metadata": {},
     "output_type": "execute_result"
    }
   ],
   "source": [
    "# Q3.c\n",
    "\n",
    "pos_min_flux_reactions = fva_result[fva_result[\"minimum\"] > 0].index # reactions with minimum flux > 0\n",
    "pos_min_flux_reactions\n"
   ]
  },
  {
   "cell_type": "code",
   "execution_count": null,
   "id": "9b0e1dd9",
   "metadata": {},
   "outputs": [
    {
     "name": "stdout",
     "output_type": "stream",
     "text": [
      "Maximal biomass production rate: 0.4796\n"
     ]
    }
   ],
   "source": [
    "# 4.a\n",
    "# Perform FBA optimization\n",
    "fba_results = model.optimize()\n",
    "\n",
    "# Report the maximal biomass production rate\n",
    "print(f\"Maximal biomass production rate: {fba_results.objective_value:.4f}\")"
   ]
  },
  {
   "cell_type": "code",
   "execution_count": 98,
   "id": "8fe7c774",
   "metadata": {},
   "outputs": [
    {
     "name": "stdout",
     "output_type": "stream",
     "text": [
      "Number of reactions whose flux reaches its maximum: 2\n",
      "Reactions whose flux reaches its maximum:\n",
      "- THD2\n",
      "- NADH16\n"
     ]
    }
   ],
   "source": [
    "# 4.b: determine reaction whose flux reaches its maximum\n",
    "reactions_at_max_flux = []\n",
    "for reaction in model.reactions:\n",
    "    flux = fba_results.fluxes[reaction.id]\n",
    "    if flux == reaction.upper_bound:\n",
    "        reactions_at_max_flux.append(reaction)\n",
    "\n",
    "print(f\"Number of reactions whose flux reaches its maximum: {len(reactions_at_max_flux)}\")\n",
    "print(\"Reactions whose flux reaches its maximum:\")\n",
    "for reaction in reactions_at_max_flux:\n",
    "    print(f\"- {reaction.id}\")   "
   ]
  },
  {
   "cell_type": "code",
   "execution_count": 103,
   "id": "761ca97c",
   "metadata": {},
   "outputs": [
    {
     "name": "stdout",
     "output_type": "stream",
     "text": [
      "Reactions with given maximal reaction activity and zero flux:\n",
      "['PFL', 'AKGt2r', 'ACALDt', 'PPCK', 'PPS', 'ADK1', 'SUCCt2_2', 'SUCCt3', 'FBP', 'FORt2', 'FORt', 'FRD7', 'FRUpts2', 'FUMt2_2', 'GLNabc', 'GLUN', 'GLUSy', 'GLUt2r', 'ICL', 'MALS', 'MALt2_2', 'ME1', 'ME2', 'NADTRHD']\n"
     ]
    }
   ],
   "source": [
    "#  4.c\n",
    "print(\"Reactions with given maximal reaction activity and zero flux:\")\n",
    "list_4c = []\n",
    "for reaction_id in estimated_maximal_activity.keys():\n",
    "    reaction = model.reactions.get_by_id(reaction_id)\n",
    "    if fba_results.fluxes[reaction.id] == 0:\n",
    "        list_4c.append(reaction.id)\n",
    "print(list_4c)\n"
   ]
  },
  {
   "cell_type": "markdown",
   "id": "317a8416",
   "metadata": {},
   "source": [
    "The reaction we are going to analyze is 'PFL'. When we look at the reaction in the online demo we see that it is a reaction which only connects two point and runs in parallel with another reaction, 'PDH'. This also immediately explains why 'PFL' has no flux. All flux that is needed between the two nodes is provided by the other reaction. This make 'PFL' redundant. \n",
    "\n",
    "![image.png](Q4c.png)"
   ]
  }
 ],
 "metadata": {
  "kernelspec": {
   "display_name": ".venv",
   "language": "python",
   "name": "python3"
  },
  "language_info": {
   "codemirror_mode": {
    "name": "ipython",
    "version": 3
   },
   "file_extension": ".py",
   "mimetype": "text/x-python",
   "name": "python",
   "nbconvert_exporter": "python",
   "pygments_lexer": "ipython3",
   "version": "3.13.7"
  }
 },
 "nbformat": 4,
 "nbformat_minor": 5
}
