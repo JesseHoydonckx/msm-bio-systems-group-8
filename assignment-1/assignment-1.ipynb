{
 "cells": [
  {
   "cell_type": "code",
   "execution_count": 67,
   "id": "7dcff2c0",
   "metadata": {},
   "outputs": [],
   "source": [
    "import cobra\n",
    "from cobra.flux_analysis import flux_variability_analysis\n",
    "import pandas as pd\n",
    "import csv"
   ]
  },
  {
   "cell_type": "markdown",
   "id": "10e18e4a",
   "metadata": {},
   "source": [
    "\n",
    "# Assignment 1: Metabolic Modelling\n",
    "\n",
    "12/09/2025\n",
    "\n",
    "## Task 1\n",
    "\n",
    "- **1A. In the interactive session, we saw reaction fluxes in a linear pathway being equal to each other due to mass balance constraints. Do you observe the same thing now for the maximal reaction activities? Explain your observations.**\n",
    "\n",
    "    In this case, the maximal reaction activities in a linear pathway are not equal to each other. If for example we look at the lower glycolysis pathway we get the following sequence of reaction activities:\n",
    "    - GAPD: 26.1\n",
    "    - PGK: 23.1\n",
    "    - PGM: 20.0\n",
    "    - ENO: 28.8\n",
    "\n",
    "- **1B. Some reactions have no maximal reaction activity data. Identify at least two different kinds of such reactions, and explain why gene expression-derived data would not be applicable for these kinds of reactions.**\n",
    "\n",
    "    The first obvious reaction type are exchange reactions. If we specifically look at Ex_glc_D_e and EX_fru_e for example, they are empty and have no data. These specific reactions show the transport of that substance across the cell boundary. Gene expression data is not useful in this case for maximal activity as their rate is not only dependant on the number of expressed transport proteins. Also if there is no glucose or fructose in this case coming from an external environment the reaction rate is always zero.   \n",
    "\n",
    "    The second reaction type would be Biomass, in this case we very clearly have BIOMASS_Ecoli_cor_w_GAM that has no data at all. The process it describes the one of cell growth, using precursor metabolites to simulate that. Since there is no gene that encodes such a process it is therefore not possible to get a maximal activity value from it only based on gene expression data. "
   ]
  },
  {
   "cell_type": "markdown",
   "id": "26fae030",
   "metadata": {},
   "source": [
    "## Task 2\n",
    "\n",
    "We will now establish an enzyme activity-constrained metabolic model in COBRApy. Please implement the maximal reaction activity data in the E. coli core model from the practical per the below instructions.\n",
    "\n",
    "- For reversible reactions, set the lower and upper flux bound to -value and +value, respectively (“value” as the maximal reaction activity).\n",
    "\n",
    "- For irreversible reactions, only set the maximal flux bound to value and leave the minimal flux bound at zero.\n",
    "\n",
    "- For reactions without data, leave their default constraints.\n",
    "\n",
    "- For the glucose exchange reaction (see practical), please remove the maximal absolute flux bound and use the high absolute default bound instead. (We assume the subsequent transporter maximal activity accounts for maximal glucose uptake.)\n",
    "\n",
    "- For the ATPM energy maintenance reaction (see practical), leave the lower flux as-is, since it describes cellular energy requirements separate from any maximal reaction activities.\n",
    "\n",
    "Please print a table listing each reaction’s lower and upper flux bound after implementing the above (no formatting requirements, simple printout sufficient)."
   ]
  },
  {
   "cell_type": "code",
   "execution_count": 68,
   "id": "7b6dd71a",
   "metadata": {},
   "outputs": [
    {
     "name": "stdout",
     "output_type": "stream",
     "text": [
      "ATPM reaction unchanged\n",
      "EX_glc__D_e bounds changed to high absolute default bound\n"
     ]
    }
   ],
   "source": [
    "# Load the E. coli core model\n",
    "model = cobra.io.load_json_model('e_coli_core.json')\n",
    "\n",
    "# Read the CSV file and populate the dictionary\n",
    "filename = 'e_coli_core_expression.csv'\n",
    "estimated_maximal_activity = {}\n",
    "with open(filename, mode='r', newline='') as file:\n",
    "    reader = csv.reader(file)   \n",
    "    for row in reader:\n",
    "        \n",
    "        try:\n",
    "            num = float(row[1])\n",
    "            estimated_maximal_activity[row[0]] = num\n",
    "        except ValueError:\n",
    "            continue\n",
    "\n",
    "# Set reaction bounds based on estimated maximal activity\n",
    "high_absolute_default_bound = 1000\n",
    "for reaction in model.reactions:\n",
    "\n",
    "    # Skip the ATPM reaction\n",
    "    if (reaction.id==\"ATPM\"):\n",
    "        print(\"ATPM reaction unchanged\")\n",
    "        continue\n",
    "\n",
    "    # use high absolute default bound for exchange reaction of glucose\n",
    "    if (reaction.id==\"EX_glc__D_e\"):\n",
    "        print(\"EX_glc__D_e bounds changed to high absolute default bound\")\n",
    "        reaction.lower_bound = -high_absolute_default_bound\n",
    "        reaction.upper_bound = high_absolute_default_bound\n",
    "        continue\n",
    "\n",
    "    # Skip reactions that are not in the estimated maximal activity dictionary\n",
    "    try:\n",
    "        value = estimated_maximal_activity[reaction.id]\n",
    "    except KeyError:\n",
    "        continue\n",
    "\n",
    "    # Reversible reaction: set upper and lower bound to estimated maximal activity\n",
    "    if (reaction.reversibility == True):\n",
    "        reaction.lower_bound = -value\n",
    "        reaction.upper_bound = value\n",
    "\n",
    "    # Irreversible reaction: set upper bound to estimated maximal activity and lower bound to 0\n",
    "    elif (reaction.reversibility == False):\n",
    "        reaction.lower_bound = 0.0\n",
    "        reaction.upper_bound = value"
   ]
  },
  {
   "cell_type": "code",
   "execution_count": 69,
   "id": "526eb97d",
   "metadata": {},
   "outputs": [
    {
     "name": "stdout",
     "output_type": "stream",
     "text": [
      "PFK: UB:12.12, LB:0.0\n",
      "PFL: UB:1.0, LB:0.0\n",
      "PGI: UB:13.12, LB:-13.12\n",
      "PGK: UB:23.13, LB:-23.13\n",
      "PGL: UB:8.12, LB:0.0\n",
      "ACALD: UB:1.16, LB:-1.16\n",
      "AKGt2r: UB:3.1, LB:-3.1\n",
      "PGM: UB:20.01, LB:-20.01\n",
      "PIt2r: UB:6.03, LB:-6.03\n",
      "ALCD2x: UB:9.01, LB:-9.01\n",
      "ACALDt: UB:2.29, LB:-2.29\n",
      "ACKr: UB:1.19, LB:-1.19\n",
      "PPC: UB:2.56, LB:0.0\n",
      "ACONTa: UB:25.35, LB:-25.35\n",
      "ACONTb: UB:25.35, LB:-25.35\n",
      "ATPM: UB:1000.0, LB:8.39\n",
      "PPCK: UB:25.23, LB:0.0\n",
      "ACt2r: UB:3.23, LB:-3.23\n",
      "PPS: UB:2.5, LB:0.0\n",
      "ADK1: UB:30.57, LB:-30.57\n",
      "AKGDH: UB:24.35, LB:0.0\n",
      "ATPS4r: UB:60.5, LB:-60.5\n",
      "PTAr: UB:4.47, LB:-4.47\n",
      "PYK: UB:26.78, LB:0.0\n",
      "BIOMASS_Ecoli_core_w_GAM: UB:1000.0, LB:0.0\n",
      "PYRt2: UB:1.26, LB:-1.26\n",
      "CO2t: UB:30.45, LB:-30.45\n",
      "RPE: UB:5.67, LB:-5.67\n",
      "CS: UB:20.56, LB:0.0\n",
      "RPI: UB:5.56, LB:-5.56\n",
      "SUCCt2_2: UB:2.36, LB:0.0\n",
      "CYTBD: UB:40.56, LB:0.0\n",
      "D_LACt2: UB:4.56, LB:-4.56\n",
      "ENO: UB:28.78, LB:-28.78\n",
      "SUCCt3: UB:6.67, LB:0.0\n",
      "ETOHt2r: UB:2.34, LB:-2.34\n",
      "SUCDi: UB:24.34, LB:0.0\n",
      "SUCOAS: UB:20.6, LB:-20.6\n",
      "TALA: UB:4.45, LB:-4.45\n",
      "THD2: UB:4.5, LB:0.0\n",
      "TKT1: UB:3.34, LB:-3.34\n",
      "TKT2: UB:3.34, LB:-3.34\n",
      "TPI: UB:45.56, LB:-45.56\n",
      "EX_ac_e: UB:1000.0, LB:0.0\n",
      "EX_acald_e: UB:1000.0, LB:0.0\n",
      "EX_akg_e: UB:1000.0, LB:0.0\n",
      "EX_co2_e: UB:1000.0, LB:-1000.0\n",
      "EX_etoh_e: UB:1000.0, LB:0.0\n",
      "EX_for_e: UB:1000.0, LB:0.0\n",
      "EX_fru_e: UB:1000.0, LB:0.0\n",
      "EX_fum_e: UB:1000.0, LB:0.0\n",
      "EX_glc__D_e: UB:1000, LB:-1000\n",
      "EX_gln__L_e: UB:1000.0, LB:0.0\n",
      "EX_glu__L_e: UB:1000.0, LB:0.0\n",
      "EX_h_e: UB:1000.0, LB:-1000.0\n",
      "EX_h2o_e: UB:1000.0, LB:-1000.0\n",
      "EX_lac__D_e: UB:1000.0, LB:0.0\n",
      "EX_mal__L_e: UB:1000.0, LB:0.0\n",
      "EX_nh4_e: UB:1000.0, LB:-1000.0\n",
      "EX_o2_e: UB:1000.0, LB:-1000.0\n",
      "EX_pi_e: UB:1000.0, LB:-1000.0\n",
      "EX_pyr_e: UB:1000.0, LB:0.0\n",
      "EX_succ_e: UB:1000.0, LB:0.0\n",
      "FBA: UB:24.45, LB:-24.45\n",
      "FBP: UB:2.35, LB:0.0\n",
      "FORt2: UB:1.28, LB:0.0\n",
      "FORt: UB:2.34, LB:0.0\n",
      "FRD7: UB:20.07, LB:0.0\n",
      "FRUpts2: UB:10.08, LB:0.0\n",
      "FUM: UB:24.35, LB:-24.35\n",
      "FUMt2_2: UB:2.45, LB:0.0\n",
      "G6PDH2r: UB:5.68, LB:-5.68\n",
      "GAPD: UB:26.13, LB:-26.13\n",
      "GLCpts: UB:16.34, LB:0.0\n",
      "GLNS: UB:3.45, LB:0.0\n",
      "GLNabc: UB:0.25, LB:0.0\n",
      "GLUDy: UB:7.35, LB:-7.35\n",
      "GLUN: UB:6.25, LB:0.0\n",
      "GLUSy: UB:7.35, LB:0.0\n",
      "GLUt2r: UB:4.12, LB:-4.12\n",
      "GND: UB:6.72, LB:0.0\n",
      "H2Ot: UB:20.06, LB:-20.06\n",
      "ICDHyr: UB:15.06, LB:-15.06\n",
      "ICL: UB:14.07, LB:0.0\n",
      "LDH_D: UB:2.07, LB:-2.07\n",
      "MALS: UB:9.12, LB:0.0\n",
      "MALt2_2: UB:8.87, LB:0.0\n",
      "MDH: UB:4.26, LB:-4.26\n",
      "ME1: UB:3.24, LB:0.0\n",
      "ME2: UB:3.34, LB:0.0\n",
      "NADH16: UB:20.26, LB:0.0\n",
      "NADTRHD: UB:1.26, LB:0.0\n",
      "NH4t: UB:3.45, LB:-3.45\n",
      "O2t: UB:40.67, LB:-40.67\n",
      "PDH: UB:32.32, LB:0.0\n"
     ]
    }
   ],
   "source": [
    "# Print the reaction bounds\n",
    "for reaction in model.reactions:\n",
    "    print(f'{reaction.id}: UB:{reaction.upper_bound}, LB:{reaction.lower_bound}')"
   ]
  },
  {
   "cell_type": "markdown",
   "id": "41ca2d13",
   "metadata": {},
   "source": [
    "## Task 3\n",
    "\n",
    "In addition to maximizing reaction rate (“flux”) through some reaction of biological interest, like the biomass reaction, we can use Flux Balance Analysis (FBA) optimizations also to ask: What are the smallest and largest fluxes possible per reaction, given all present constraints in the network? This is known as “Flux Variabiliry Analysis” or FVA. In FVA, we loop over every reaction of interest and once maximize and once minimize its flux via FBA; thus obtaining the permissible flux range for each reaction in the model.\n",
    "\n",
    "- **3A. Carry out an FVA for all reactions in the model and print out the resulting minimal and maximal fluxes per reaction (simple printout sufficient).**"
   ]
  },
  {
   "cell_type": "code",
   "execution_count": 70,
   "id": "d1a61533",
   "metadata": {},
   "outputs": [
    {
     "name": "stdout",
     "output_type": "stream",
     "text": [
      "Flux Variability Results:\n",
      "                               minimum       maximum\n",
      "PFK                       7.314456e+00  7.314456e+00\n",
      "PFL                       3.897323e-14  0.000000e+00\n",
      "PGI                       7.376438e+00  7.376438e+00\n",
      "PGK                      -1.446649e+01 -1.446649e+01\n",
      "PGL                       4.751035e-01  4.751035e-01\n",
      "ACALD                    -1.160000e+00 -1.160000e+00\n",
      "AKGt2r                    2.351598e-16  0.000000e+00\n",
      "PGM                      -1.374906e+01 -1.374906e+01\n",
      "PIt2r                     1.764199e+00  1.764199e+00\n",
      "ALCD2x                   -1.160000e+00 -1.160000e+00\n",
      "ACALDt                    3.023483e-16  2.392232e-15\n",
      "ACKr                     -1.190000e+00 -1.190000e+00\n",
      "PPC                       1.374260e+00  1.374260e+00\n",
      "ACONTa                    3.289982e+00  3.289982e+00\n",
      "ACONTb                    3.289982e+00  3.289982e+00\n",
      "ATPM                      8.390000e+00  8.390000e+00\n",
      "PPCK                      0.000000e+00 -1.966609e-14\n",
      "ACt2r                    -1.190000e+00 -1.190000e+00\n",
      "PPS                       0.000000e+00 -2.645547e-16\n",
      "ADK1                      0.000000e+00 -1.803229e-14\n",
      "AKGDH                     2.772573e+00  2.772573e+00\n",
      "ATPS4r                    2.190519e+01  2.190519e+01\n",
      "PTAr                      1.190000e+00  1.190000e+00\n",
      "PYK                       4.175997e+00  4.175997e+00\n",
      "BIOMASS_Ecoli_core_w_GAM  4.795714e-01  4.795714e-01\n",
      "PYRt2                    -1.260000e+00 -1.260000e+00\n",
      "CO2t                     -1.260072e+01 -1.260072e+01\n",
      "RPE                      -2.798030e-02 -2.798030e-02\n",
      "CS                        3.289982e+00  3.289982e+00\n",
      "RPI                      -5.030838e-01 -5.030838e-01\n",
      "SUCCt2_2                  0.000000e+00 -3.527396e-16\n",
      "CYTBD                     2.303257e+01  2.303257e+01\n",
      "D_LACt2                  -2.070000e+00 -2.070000e+00\n",
      "ENO                       1.374906e+01  1.374906e+01\n",
      "SUCCt3                    0.000000e+00 -2.628797e-14\n",
      "ETOHt2r                  -1.160000e+00 -1.160000e+00\n",
      "SUCDi                     2.772573e+00  2.284257e+01\n",
      "SUCOAS                   -2.772573e+00 -2.772573e+00\n",
      "TALA                      7.257249e-02  7.257249e-02\n",
      "THD2                      4.500000e+00  4.500000e+00\n",
      "TKT1                      7.257249e-02  7.257249e-02\n",
      "TKT2                     -1.005528e-01 -1.005528e-01\n",
      "TPI                       7.314456e+00  7.314456e+00\n",
      "EX_ac_e                   1.190000e+00  1.190000e+00\n",
      "EX_acald_e                0.000000e+00 -2.169501e-14\n",
      "EX_akg_e                  0.000000e+00 -2.351598e-16\n",
      "EX_co2_e                  1.260072e+01  1.260072e+01\n",
      "EX_etoh_e                 1.160000e+00  1.160000e+00\n",
      "EX_for_e                  0.000000e+00  0.000000e+00\n",
      "EX_fru_e                  0.000000e+00  0.000000e+00\n",
      "EX_fum_e                  0.000000e+00  0.000000e+00\n",
      "EX_glc__D_e              -7.949853e+00 -7.949853e+00\n",
      "EX_gln__L_e               0.000000e+00 -2.203218e-14\n",
      "EX_glu__L_e               0.000000e+00 -3.023693e-14\n",
      "EX_h_e                    1.414020e+01  1.414020e+01\n",
      "EX_h2o_e                  1.619411e+01  1.619411e+01\n",
      "EX_lac__D_e               2.070000e+00  2.070000e+00\n",
      "EX_mal__L_e               0.000000e+00  0.000000e+00\n",
      "EX_nh4_e                 -2.615007e+00 -2.615007e+00\n",
      "EX_o2_e                  -1.151629e+01 -1.151629e+01\n",
      "EX_pi_e                  -1.764199e+00 -1.764199e+00\n",
      "EX_pyr_e                  1.260000e+00  1.260000e+00\n",
      "EX_succ_e                 0.000000e+00 -1.110555e-14\n",
      "FBA                       7.314456e+00  7.314456e+00\n",
      "FBP                       0.000000e+00 -1.898313e-14\n",
      "FORt2                     0.000000e+00 -2.458711e-14\n",
      "FORt                      0.000000e+00  0.000000e+00\n",
      "FRD7                      0.000000e+00  2.007000e+01\n",
      "FRUpts2                   0.000000e+00  0.000000e+00\n",
      "FUM                       2.772573e+00  2.772573e+00\n",
      "FUMt2_2                   0.000000e+00  0.000000e+00\n",
      "G6PDH2r                   4.751035e-01  4.751035e-01\n",
      "GAPD                      1.446649e+01  1.446649e+01\n",
      "GLCpts                    7.949853e+00  7.949853e+00\n",
      "GLNS                      1.226264e-01  1.226264e-01\n",
      "GLNabc                    0.000000e+00  0.000000e+00\n",
      "GLUDy                    -2.492381e+00 -2.492381e+00\n",
      "GLUN                      0.000000e+00 -2.017502e-14\n",
      "GLUSy                     0.000000e+00 -2.645547e-16\n",
      "GLUt2r                    2.351598e-16  0.000000e+00\n",
      "GND                       4.751035e-01  4.751035e-01\n",
      "H2Ot                     -1.619411e+01 -1.619411e+01\n",
      "ICDHyr                    3.289982e+00  3.289982e+00\n",
      "ICL                       0.000000e+00 -4.847080e-14\n",
      "LDH_D                    -2.070000e+00 -2.070000e+00\n",
      "MALS                      0.000000e+00 -7.901922e-15\n",
      "MALt2_2                   0.000000e+00  0.000000e+00\n",
      "MDH                       2.772573e+00  2.772573e+00\n",
      "ME1                       0.000000e+00 -2.005986e-14\n",
      "ME2                       0.000000e+00 -4.225333e-14\n",
      "NADH16                    2.026000e+01  2.026000e+01\n",
      "NADTRHD                   0.000000e+00 -4.232876e-16\n",
      "NH4t                      2.615007e+00  2.615007e+00\n",
      "O2t                       1.151629e+01  1.151629e+01\n",
      "PDH                       7.437320e+00  7.437320e+00\n"
     ]
    }
   ],
   "source": [
    "# 3.a\n",
    "# Perform FVA optimization\n",
    "pd.set_option('display.max_rows', None)\n",
    "fva_results = flux_variability_analysis(model, model.reactions, fraction_of_optimum=1.0)\n",
    "\n",
    "# Report the flux variability results\n",
    "print(\"Flux Variability Results:\")\n",
    "print(fva_results)"
   ]
  },
  {
   "cell_type": "markdown",
   "id": "122cb5c5",
   "metadata": {},
   "source": [
    "- **3B. Identify any reactions with gene expression-imposed maximal reaction activities, whose permissible flux range in forward direction is nonzero yet comes out less than its upper flux bound. State their number and explain why a set of reactions behaves this way.**\n",
    "\n",
    "    **Reaction behaviour explanation:**\n",
    "    There are a total of 30 reactions that the permissible flux range in the forward direction is non-zero, but they come out less than the gene expression imposed upper flux bound. This is likely to be explained by the fact that a reactions maximum possible speed is limited by two things:\n",
    "    Their upper bond, so local capacity and the FVA result so in a sense their systemic throughput. That is the true maximum rate the reaction can occur given all other limitations in the network. We can say that these 30 reactions are not the bottleneck in the system but rather the network itself is the problem. Likely real bottlenecks would be upstream limits: for example the rate of glucose intake (GLCpts at 7,95) this limits any reaction downstream of that. Also the reactions themselves consuming its products are at their own maximum capacity. "
   ]
  },
  {
   "cell_type": "code",
   "execution_count": 71,
   "id": "c4538b47",
   "metadata": {},
   "outputs": [
    {
     "name": "stdout",
     "output_type": "stream",
     "text": [
      "Number of reactions limited by the network: 30\n",
      "\n",
      "List of constrained reaction IDs:\n",
      "['PFK', 'PGI', 'PGL', 'PIt2r', 'PPC', 'ACONTa', 'ACONTb', 'AKGDH', 'ATPS4r', 'PTAr', 'PYK', 'CS', 'CYTBD', 'ENO', 'SUCDi', 'TALA', 'TKT1', 'TPI', 'FBA', 'FUM', 'G6PDH2r', 'GAPD', 'GLCpts', 'GLNS', 'GND', 'ICDHyr', 'MDH', 'NH4t', 'O2t', 'PDH']\n"
     ]
    }
   ],
   "source": [
    "# 3.b\n",
    "constrained_reactions = []\n",
    "tolerance = 1e-9\n",
    "\n",
    "for reaction in model.reactions:\n",
    "    if reaction.id in estimated_maximal_activity:\n",
    "        fva_max_flux = fva_results.loc[reaction.id, 'maximum']\n",
    "        reaction_upper_bound = reaction.upper_bound\n",
    "        \n",
    "        if (reaction.id != 'FORt' and\n",
    "            fva_max_flux > tolerance and  \n",
    "            fva_max_flux < reaction_upper_bound - tolerance): \n",
    "            \n",
    "            constrained_reactions.append(reaction.id)\n",
    "\n",
    "print(f\"Number of reactions limited by the network: {len(constrained_reactions)}\")\n",
    "print(\"\\nList of constrained reaction IDs:\")\n",
    "print(constrained_reactions)"
   ]
  },
  {
   "cell_type": "markdown",
   "id": "e66c8a4a",
   "metadata": {},
   "source": [
    "- **3C. How many reactions have a positive minimal flux in the FVA? State their number and explain why a set of reactions behaves this way.**\n",
    "\n",
    "    **Reaction behavior explanation:** Based on the flux variablity results, there are a total of 46 reactions that have a positive minimum flux. For these reactions, it is essential that a reaction happens to fulfill the specified cellular objective, in this case it is maximum biomass production. They must carry a forward flux, thus cannot be turned off or reversed. For some of these reactions this is the case because they are the only link in the pathway that can produce a critical component in that pathway like a specific amino acid for example. Also the entire biomass reaction itself must be in a positive flux for the model to simulate and maintain growth. In some way, those specific reactions are essential to the cells metabolism. "
   ]
  },
  {
   "cell_type": "code",
   "execution_count": 72,
   "id": "ae37bb40",
   "metadata": {},
   "outputs": [
    {
     "data": {
      "text/plain": [
       "45"
      ]
     },
     "execution_count": 72,
     "metadata": {},
     "output_type": "execute_result"
    }
   ],
   "source": [
    "# 3.c\n",
    "pos_min_flux_reactions = fva_results[fva_results[\"minimum\"] > 0].index # reactions with minimum flux > 0\n",
    "pos_min_flux_reactions.size"
   ]
  },
  {
   "cell_type": "markdown",
   "id": "6047ee6d",
   "metadata": {},
   "source": [
    "## Task 4\n",
    "\n",
    "- **4A. Carry out an FBA optimization of biomass and report the maximal biomass production rate in the presence of the implemented constraints.**"
   ]
  },
  {
   "cell_type": "code",
   "execution_count": 73,
   "id": "f6b0faf8",
   "metadata": {},
   "outputs": [
    {
     "name": "stdout",
     "output_type": "stream",
     "text": [
      "Maximal biomass production rate: 0.4796\n"
     ]
    }
   ],
   "source": [
    "# 4.a\n",
    "# Perform FBA optimization\n",
    "fba_results = model.optimize()\n",
    "\n",
    "# Report the maximal biomass production rate\n",
    "print(f\"Maximal biomass production rate: {fba_results.objective_value:.4f}\")"
   ]
  },
  {
   "cell_type": "markdown",
   "id": "d5ef20f8",
   "metadata": {},
   "source": [
    "- **4B. Determine the “bottleneck(s)” – i. e. those reaction(s) whose flux reaches its maximum.**"
   ]
  },
  {
   "cell_type": "code",
   "execution_count": 74,
   "id": "821c97f6",
   "metadata": {},
   "outputs": [
    {
     "name": "stdout",
     "output_type": "stream",
     "text": [
      "Number of reactions whose flux reaches its maximum: 2\n",
      "Reactions whose flux reaches its maximum:\n",
      "- THD2\n",
      "- NADH16\n"
     ]
    }
   ],
   "source": [
    "# 4.b: determine reaction whose flux reaches its maximum\n",
    "reactions_at_max_flux = []\n",
    "for reaction in model.reactions:\n",
    "    flux = fba_results.fluxes[reaction.id]\n",
    "    if flux == reaction.upper_bound:\n",
    "        reactions_at_max_flux.append(reaction)\n",
    "\n",
    "print(f\"Number of reactions whose flux reaches its maximum: {len(reactions_at_max_flux)}\")\n",
    "print(\"Reactions whose flux reaches its maximum:\")\n",
    "for reaction in reactions_at_max_flux:\n",
    "    print(f\"- {reaction.id}\")   "
   ]
  },
  {
   "cell_type": "markdown",
   "id": "a28e3134",
   "metadata": {},
   "source": [
    "- **4C. The model does not use (have non-zero flux for) all reactions in the model constrained with maximal reaction activities. Pick a reaction with maximal reaction activity constraints and zero flux in the optimal solution, and explain from the network context why it carries not carry flux.**\n",
    "\n",
    "    **Analyzing an unused reaction: PFL**\n",
    "\n",
    "    The reaction we are going to analyze is 'PFL'. When we look at the reaction in the online demo we see that it is a reaction which only connects two point and runs in parallel with another reaction, 'PDH'. This also immediately explains why 'PFL' has no flux. All flux that is needed between the two nodes is provided by the other reaction. This make 'PFL' redundant. \n",
    "\n",
    "    ![image.png](Q4c.png)"
   ]
  },
  {
   "cell_type": "code",
   "execution_count": 75,
   "id": "c9c065c5",
   "metadata": {},
   "outputs": [
    {
     "name": "stdout",
     "output_type": "stream",
     "text": [
      "Reactions with given maximal reaction activity and zero flux:\n",
      "['PFL', 'AKGt2r', 'ACALDt', 'PPCK', 'PPS', 'ADK1', 'SUCCt2_2', 'SUCCt3', 'FBP', 'FORt2', 'FORt', 'FRD7', 'FRUpts2', 'FUMt2_2', 'GLNabc', 'GLUN', 'GLUSy', 'GLUt2r', 'ICL', 'MALS', 'MALt2_2', 'ME1', 'ME2', 'NADTRHD']\n"
     ]
    }
   ],
   "source": [
    "#  4.c\n",
    "print(\"Reactions with given maximal reaction activity and zero flux:\")\n",
    "list_4c = []\n",
    "for reaction_id in estimated_maximal_activity.keys():\n",
    "    reaction = model.reactions.get_by_id(reaction_id)\n",
    "    if fba_results.fluxes[reaction.id] == 0:\n",
    "        list_4c.append(reaction.id)\n",
    "print(list_4c)\n"
   ]
  }
 ],
 "metadata": {
  "kernelspec": {
   "display_name": ".venv",
   "language": "python",
   "name": "python3"
  },
  "language_info": {
   "codemirror_mode": {
    "name": "ipython",
    "version": 3
   },
   "file_extension": ".py",
   "mimetype": "text/x-python",
   "name": "python",
   "nbconvert_exporter": "python",
   "pygments_lexer": "ipython3",
   "version": "3.13.7"
  }
 },
 "nbformat": 4,
 "nbformat_minor": 5
}
